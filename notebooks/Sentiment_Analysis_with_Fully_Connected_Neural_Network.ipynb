{
  "nbformat": 4,
  "nbformat_minor": 0,
  "metadata": {
    "colab": {
      "name": "Sentiment Analysis with Fully-Connected Neural Network.ipynb",
      "provenance": [],
      "collapsed_sections": [
        "mUJ5zzIZOYk6"
      ],
      "machine_shape": "hm"
    },
    "kernelspec": {
      "name": "python3",
      "display_name": "Python 3"
    },
    "accelerator": "GPU"
  },
  "cells": [
    {
      "cell_type": "code",
      "metadata": {
        "id": "c6LTwFNeQsDI",
        "colab_type": "code",
        "colab": {}
      },
      "source": [
        "import tensorflow as tf\n",
        "import pandas as pd\n",
        "import numpy as np\n",
        "import matplotlib.pyplot as plt\n",
        "from sklearn.metrics import confusion_matrix\n",
        "from tensorflow.keras.initializers import Constant\n",
        "from tensorflow.keras import optimizers"
      ],
      "execution_count": 0,
      "outputs": []
    },
    {
      "cell_type": "code",
      "metadata": {
        "id": "l7ysOubkQv_I",
        "colab_type": "code",
        "colab": {}
      },
      "source": [
        "from google.colab import drive\n",
        "drive.mount('/gdrive')"
      ],
      "execution_count": 0,
      "outputs": []
    },
    {
      "cell_type": "markdown",
      "metadata": {
        "id": "A6V9f_0bOVVS",
        "colab_type": "text"
      },
      "source": [
        "#KERAS"
      ]
    },
    {
      "cell_type": "code",
      "metadata": {
        "id": "X3OAzDn3s8vR",
        "colab_type": "code",
        "outputId": "e3c89f5f-64a5-4020-e20e-a66996a1ab86",
        "colab": {
          "base_uri": "https://localhost:8080/",
          "height": 64
        }
      },
      "source": [
        "import tensorflow as tf\n",
        "\n",
        "from tensorflow.keras.preprocessing.sequence import pad_sequences"
      ],
      "execution_count": 0,
      "outputs": [
        {
          "output_type": "display_data",
          "data": {
            "text/html": [
              "<p style=\"color: red;\">\n",
              "The default version of TensorFlow in Colab will soon switch to TensorFlow 2.x.<br>\n",
              "We recommend you <a href=\"https://www.tensorflow.org/guide/migrate\" target=\"_blank\">upgrade</a> now \n",
              "or ensure your notebook will continue to use TensorFlow 1.x via the <code>%tensorflow_version 1.x</code> magic:\n",
              "<a href=\"https://colab.research.google.com/notebooks/tensorflow_version.ipynb\" target=\"_blank\">more info</a>.</p>\n"
            ],
            "text/plain": [
              "<IPython.core.display.HTML object>"
            ]
          },
          "metadata": {
            "tags": []
          }
        }
      ]
    },
    {
      "cell_type": "markdown",
      "metadata": {
        "id": "b531M-oYhn0Z",
        "colab_type": "text"
      },
      "source": [
        "## prepare dataset"
      ]
    },
    {
      "cell_type": "code",
      "metadata": {
        "id": "eGyuqBxrhnjW",
        "colab_type": "code",
        "colab": {}
      },
      "source": [
        "df = pd.read_csv(\"sentiment.csv\")\n",
        "df.head()"
      ],
      "execution_count": 0,
      "outputs": []
    },
    {
      "cell_type": "code",
      "metadata": {
        "id": "7GsSlYzniKB0",
        "colab_type": "code",
        "colab": {}
      },
      "source": [
        "def get_word2id(df):\n",
        "  vocab=set()\n",
        "  for i in df.iteritems():\n",
        "    words= i[1].split(' ')\n",
        "    vocab.update(words)\n",
        "  word2id= dict()\n",
        "  id2word= dict()\n",
        "  for i,word in enumerate(vocab):\n",
        "    word2id[word]=i+1\n",
        "    id2word[i+1] =word\n",
        "  return word2id,id2word,vocab"
      ],
      "execution_count": 0,
      "outputs": []
    },
    {
      "cell_type": "code",
      "metadata": {
        "id": "1YMfFQvblsl8",
        "colab_type": "code",
        "colab": {}
      },
      "source": [
        "def convert_data(df,word2id):\n",
        "  new_dataset=[]\n",
        "  for r in df.iteritems():\n",
        "    new_dataset.append([word2id[w] for w in r[1].split(\" \")])\n",
        "  return new_dataset"
      ],
      "execution_count": 0,
      "outputs": []
    },
    {
      "cell_type": "code",
      "metadata": {
        "id": "NNnjtLIhmoVU",
        "colab_type": "code",
        "colab": {}
      },
      "source": [
        "word2id,id2word,vocab = get_word2id(df['sentence'])\n",
        "new_dataset = convert_data(df['sentence'],word2id)"
      ],
      "execution_count": 0,
      "outputs": []
    },
    {
      "cell_type": "code",
      "metadata": {
        "id": "RvFm1961r7Fy",
        "colab_type": "code",
        "colab": {}
      },
      "source": [
        "vocab_size = len(word2id)"
      ],
      "execution_count": 0,
      "outputs": []
    },
    {
      "cell_type": "code",
      "metadata": {
        "id": "p23hik2QssbK",
        "colab_type": "code",
        "colab": {}
      },
      "source": [
        "new_dataset = pad_sequences(new_dataset, maxlen=128, dtype='int32', padding='post', truncating='post', value=0.0)\n"
      ],
      "execution_count": 0,
      "outputs": []
    },
    {
      "cell_type": "code",
      "metadata": {
        "id": "5ztmpKZLs_Je",
        "colab_type": "code",
        "colab": {}
      },
      "source": [
        "new_dataset = np.concatenate([new_dataset,df['polarity'].values.reshape(-1,1)],axis=1)"
      ],
      "execution_count": 0,
      "outputs": []
    },
    {
      "cell_type": "markdown",
      "metadata": {
        "id": "h2kvcgLvz91N",
        "colab_type": "text"
      },
      "source": [
        "### split train , test"
      ]
    },
    {
      "cell_type": "code",
      "metadata": {
        "id": "KLh-4GCE0Ao-",
        "colab_type": "code",
        "colab": {}
      },
      "source": [
        "train = new_dataset[:int(len(new_dataset)*.8)]\n",
        "test = new_dataset[int(len(new_dataset)*.8):]"
      ],
      "execution_count": 0,
      "outputs": []
    },
    {
      "cell_type": "markdown",
      "metadata": {
        "id": "Swy7zrcMiNbw",
        "colab_type": "text"
      },
      "source": [
        "### evaluation"
      ]
    },
    {
      "cell_type": "code",
      "metadata": {
        "id": "M4xKPRGq335J",
        "colab_type": "code",
        "colab": {}
      },
      "source": [
        "def evaluate(y_true,y_pred):\n",
        "  return confusion_matrix(y_true, y_pred, labels=[0,1])"
      ],
      "execution_count": 0,
      "outputs": []
    },
    {
      "cell_type": "markdown",
      "metadata": {
        "id": "ppl0ixqxYCY0",
        "colab_type": "text"
      },
      "source": [
        "## Sentiment Analysis with Fully-Connected Neural Network (keras lubrary)"
      ]
    },
    {
      "cell_type": "code",
      "metadata": {
        "id": "-txStW8whlse",
        "colab_type": "code",
        "colab": {}
      },
      "source": [
        "from tensorflow import keras\n",
        "model = keras.Sequential()\n",
        "model.add(keras.layers.Embedding(vocab_size,16))\n",
        "model.add(keras.layers.GlobalAveragePooling1D())\n",
        "model.add(keras.layers.Dense(16,activation=tf.nn.relu))\n",
        "model.add(keras.layers.Dense(16,activation=tf.nn.relu))\n",
        "model.add(keras.layers.Dense(2,activation=tf.nn.softmax))\n",
        "model.summary()"
      ],
      "execution_count": 0,
      "outputs": []
    },
    {
      "cell_type": "code",
      "metadata": {
        "id": "d8dAvXvIzWSc",
        "colab_type": "code",
        "colab": {}
      },
      "source": [
        "model.compile(optimizer='adam',\n",
        "              loss='sparse_categorical_crossentropy',\n",
        "              metrics=['accuracy'])\n",
        "model.fit(x = train[:,:-1],y=train[:,-1],batch_size=32,epochs=5,validation_split=0.2)"
      ],
      "execution_count": 0,
      "outputs": []
    }
  ]
}